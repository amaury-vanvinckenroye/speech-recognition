{
 "cells": [
  {
   "cell_type": "code",
   "execution_count": null,
   "metadata": {},
   "outputs": [],
   "source": [
    "import numpy as np\n",
    "import pandas as pd\n",
    "import xarray as xr\n",
    "\n",
    "import matplotlib.pyplot as plt\n",
    "plt.rcParams[\"figure.facecolor\"] = \"w\"\n",
    "\n",
    "from pathlib import Path\n",
    "\n",
    "import librosa \n",
    "import librosa.display\n"
   ]
  },
  {
   "cell_type": "markdown",
   "metadata": {},
   "source": [
    "#### Read with pydub\n",
    "import pydub\n",
    "def read_mp3_pydub(f, normalized=False):\n",
    "    \"\"\"MP3 to numpy array\"\"\"\n",
    "    a = pydub.AudioSegment.from_mp3(f)\n",
    "    y = np.array(a.get_array_of_samples())\n",
    "    if a.channels == 2:\n",
    "        y = y.reshape((-1, 2))\n",
    "    if normalized:\n",
    "        return a.frame_rate, np.float32(y) / 2**15\n",
    "    else:\n",
    "        return a.frame_rate, y"
   ]
  },
  {
   "cell_type": "code",
   "execution_count": null,
   "metadata": {},
   "outputs": [],
   "source": [
    "data_dir = Path(\"../data\")\n",
    "audio_file = data_dir / \"cv-valid-train/sample-000001.mp3\"\n",
    "\n",
    "y, sr = librosa.load(str(audio_file.resolve()), sr=None)"
   ]
  },
  {
   "cell_type": "code",
   "execution_count": null,
   "metadata": {},
   "outputs": [],
   "source": [
    "# in speech, the recommended n_fft value is 512 at 22,050 Hz. Sr is 48,000 Hz here\n",
    "specgram = np.abs(librosa.stft(y, n_fft=1024, hop_length=512))**2\n",
    "specgram = librosa.amplitude_to_db(specgram, ref=np.max)\n",
    "\n",
    "mel = librosa.feature.melspectrogram(y=y, sr=sr, hop_length=512)\n",
    "mel_db = librosa.power_to_db(mel, ref=np.max)\n",
    "\n",
    "fig, ax = plt.subplots(3, 1, figsize=(16, 7), sharex=True)\n",
    "librosa.display.waveshow(y, sr=sr, x_axis=\"time\", ax=ax[0])\n",
    "ax[0].set_xlabel(\"\")\n",
    "ax[0].set_title(\"Audio signal\")\n",
    "librosa.display.specshow(specgram, sr=sr, hop_length=512, x_axis='time', y_axis='log', ax=ax[1])\n",
    "ax[1].set_xlabel(\"\")\n",
    "ax[1].set_title(\"Spectrogram\")\n",
    "librosa.display.specshow(mel_db, sr=sr, hop_length=512, x_axis='time', y_axis='mel', ax=ax[2])\n",
    "ax[2].set_title(\"Mel spectrogram\")"
   ]
  },
  {
   "cell_type": "code",
   "execution_count": null,
   "metadata": {},
   "outputs": [],
   "source": []
  }
 ],
 "metadata": {
  "interpreter": {
   "hash": "5ae9b6b132d771837cdcfd7bbb0ca696bfddd0e5ccecb2afe4839e903db6d0ff"
  },
  "kernelspec": {
   "display_name": "Python 3.9.7 64-bit ('base': conda)",
   "language": "python",
   "name": "python3"
  },
  "language_info": {
   "codemirror_mode": {
    "name": "ipython",
    "version": 3
   },
   "file_extension": ".py",
   "mimetype": "text/x-python",
   "name": "python",
   "nbconvert_exporter": "python",
   "pygments_lexer": "ipython3",
   "version": "3.9.7"
  },
  "orig_nbformat": 4
 },
 "nbformat": 4,
 "nbformat_minor": 2
}
